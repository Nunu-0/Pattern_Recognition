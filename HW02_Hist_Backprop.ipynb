{
 "cells": [
  {
   "cell_type": "markdown",
   "id": "07d3e273",
   "metadata": {},
   "source": [
    "# 패턴인식 (21_2)\n",
    "## 휴먼지능정보공학과 201810793 이연우\n",
    "### [과제#2] 히스토그램 역투영\n",
    "첨부한 베이스 코드를 기반으로 히스토그램 역투영 코드를 완성하세요.\n",
    "\n",
    "추가로 모폴로지 연산을 적용하여 히스토그램 역투영 결과를 개선시켜보세요. \n",
    "\n",
    "※ 참고로 양자화 관련 코드는 구현하지 않아도 되며, 코드를 완성한 후 input 영상에 새로운 손 이미지를 대입하여 히스토그램 역투영 알고리즘이 피부색을 잘 찾아내는지 테스트해보세요"
   ]
  },
  {
   "cell_type": "code",
   "execution_count": 1,
   "id": "cc94c3ac",
   "metadata": {},
   "outputs": [],
   "source": [
    "import cv2\n",
    "import numpy as np"
   ]
  },
  {
   "cell_type": "markdown",
   "id": "19ec0b36",
   "metadata": {},
   "source": [
    "- 모델 영상의 2차원 H-S 히스토그램 계산"
   ]
  },
  {
   "cell_type": "code",
   "execution_count": 2,
   "id": "82f11c63",
   "metadata": {},
   "outputs": [],
   "source": [
    "img_m = cv2.imread('model.jpg')\n",
    "hsv_m = cv2.cvtColor(img_m, cv2.COLOR_BGR2HSV)\n",
    "hist_m = cv2.calcHist([hsv_m], [0, 1], None, [180, 256], [0, 180, 0, 256])"
   ]
  },
  {
   "cell_type": "markdown",
   "id": "2757ea79",
   "metadata": {},
   "source": [
    "- 입력 영상의 2차원 H-S 히스토그램 계산"
   ]
  },
  {
   "cell_type": "code",
   "execution_count": 3,
   "id": "5cfa5cc3",
   "metadata": {},
   "outputs": [],
   "source": [
    "img_i = cv2.imread('hand.jpg')\n",
    "hsv_i = cv2.cvtColor(img_i, cv2.COLOR_BGR2HSV)\n",
    "hist_i = cv2.calcHist([hsv_i], [0, 1], None, [180, 256], [0, 180, 0, 256])"
   ]
  },
  {
   "cell_type": "markdown",
   "id": "c20631a4",
   "metadata": {},
   "source": [
    "- 히스토그램 정규화\n",
    "    \n",
    "    각 픽셀 개수 / 전체 픽셀 값"
   ]
  },
  {
   "cell_type": "code",
   "execution_count": 4,
   "id": "03e26888",
   "metadata": {
    "scrolled": true
   },
   "outputs": [
    {
     "name": "stdout",
     "output_type": "stream",
     "text": [
      "maxinum of hist_m_nor :  0.021333\n",
      "maxinum of hist_i :  0.685269\n"
     ]
    }
   ],
   "source": [
    "# HW ------\n",
    "hist_m_nor = hist_m / (img_m.shape[0] * img_m.shape[1])         \n",
    "print(\"maxinum of hist_m_nor : % f\" % hist_m_nor.max()) # 값 범위 체크 : 1.0 이하\n",
    "\n",
    "hist_i_nor = hist_i / (img_i.shape[0] * img_i.shape[1])\n",
    "#cv2.normalize(hist_i, hist_i, 0, 1, cv2.NORM_MINMAX)\n",
    "print(\"maxinum of hist_i : % f\" % hist_i_nor.max()) # 값 범위 체크 : 1.0 이하\n",
    "#-----------"
   ]
  },
  {
   "cell_type": "markdown",
   "id": "77c990db",
   "metadata": {},
   "source": [
    "- 비율 히스토그램 계산"
   ]
  },
  {
   "cell_type": "code",
   "execution_count": 5,
   "id": "1d01746d",
   "metadata": {},
   "outputs": [
    {
     "name": "stdout",
     "output_type": "stream",
     "text": [
      "range of hist_r : [0, 1]\n"
     ]
    }
   ],
   "source": [
    "# HW ------\n",
    "hist_r = np.minimum(hist_m / (hist_i + 1e-7), 1.0)\n",
    "#-----------\n",
    "print(\"range of hist_r : [%.lf, %.lf]\" % (hist_r.min(), hist_r.max()))\n",
    "# 비율 값 범위 체크 : [0.0, 1.0]"
   ]
  },
  {
   "cell_type": "markdown",
   "id": "83facf48",
   "metadata": {},
   "source": [
    "- 히스토그램 역투영 수행"
   ]
  },
  {
   "cell_type": "code",
   "execution_count": 6,
   "id": "85ae6e6c",
   "metadata": {},
   "outputs": [],
   "source": [
    "# HW ------\n",
    "height, width = img_i.shape[0], img_i.shape[1]\n",
    "result = np.zeros((height, width))\n",
    "h, s, v = cv2.split(hsv_i)\n",
    "\n",
    "for w in range(width):\n",
    "    for he in range(height):\n",
    "        result[he, w] = hist_r[h[he,w], s[he,w]]\n",
    "#-----------"
   ]
  },
  {
   "cell_type": "markdown",
   "id": "36f2d144",
   "metadata": {},
   "source": [
    "- 이진화 수행 (화소값이 임계값 0.02보다 크면 255, 그렇지 않으면 0)"
   ]
  },
  {
   "cell_type": "code",
   "execution_count": 7,
   "id": "27086ba3",
   "metadata": {},
   "outputs": [
    {
     "data": {
      "text/plain": [
       "True"
      ]
     },
     "execution_count": 7,
     "metadata": {},
     "output_type": "execute_result"
    }
   ],
   "source": [
    "ret, thresholded = cv2.threshold(result, 0.02, 255, cv2.THRESH_BINARY)\n",
    "cv2.imwrite('result.jpg', thresholded)"
   ]
  },
  {
   "cell_type": "markdown",
   "id": "59c0df7b",
   "metadata": {},
   "source": [
    "- 모폴로지 연산 적용"
   ]
  },
  {
   "cell_type": "code",
   "execution_count": 11,
   "id": "9fd4d94d",
   "metadata": {},
   "outputs": [
    {
     "data": {
      "text/plain": [
       "True"
      ]
     },
     "execution_count": 11,
     "metadata": {},
     "output_type": "execute_result"
    }
   ],
   "source": [
    "# HW ------\n",
    "kernel = np.ones((13, 13), np.uint8)\n",
    "improved = cv2.morphologyEx(thresholded, cv2.MORPH_CLOSE, kernel)\n",
    "#-----------\n",
    "cv2.imwrite('morphology.jpg', improved)"
   ]
  }
 ],
 "metadata": {
  "kernelspec": {
   "display_name": "Python 3 (ipykernel)",
   "language": "python",
   "name": "python3"
  },
  "language_info": {
   "codemirror_mode": {
    "name": "ipython",
    "version": 3
   },
   "file_extension": ".py",
   "mimetype": "text/x-python",
   "name": "python",
   "nbconvert_exporter": "python",
   "pygments_lexer": "ipython3",
   "version": "3.8.11"
  }
 },
 "nbformat": 4,
 "nbformat_minor": 5
}
